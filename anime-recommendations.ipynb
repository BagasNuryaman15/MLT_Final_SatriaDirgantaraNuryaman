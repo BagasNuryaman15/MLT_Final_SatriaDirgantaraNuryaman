{
 "cells": [
  {
   "cell_type": "markdown",
   "id": "07adad9d",
   "metadata": {},
   "source": [
    "# **Proyek Recommendations System: [Anime Recommendations Database]**"
   ]
  },
  {
   "cell_type": "markdown",
   "id": "03568c1a",
   "metadata": {},
   "source": [
    "- **Nama:** Satria Dirgantara Nurayaman\n",
    "- **Email:** satriadirgantaranuryaman@gmail.com\n",
    "- **ID Dicoding:** Satria Dirgantara Nuryaman"
   ]
  },
  {
   "cell_type": "markdown",
   "id": "c8707571",
   "metadata": {},
   "source": [
    "## **Import Library**"
   ]
  },
  {
   "cell_type": "code",
   "execution_count": 1,
   "id": "a494d0f8",
   "metadata": {},
   "outputs": [],
   "source": [
    "# Manipulation Data\n",
    "import pandas as pd\n",
    "import numpy as np\n",
    "import re\n",
    "\n",
    "# Visualization\n",
    "import matplotlib.pyplot as plt\n",
    "import seaborn as sns\n",
    "\n",
    "# Reccommender System\n",
    "from sklearn.metrics.pairwise import cosine_similarity\n",
    "from sklearn.feature_extraction.text import TfidfVectorizer\n",
    "\n",
    "# TensorFlow\n",
    "import tensorflow as tf\n",
    "\n",
    "# Configurations\n",
    "import warnings \n",
    "warnings.filterwarnings('ignore')\n",
    "plt.style.use('seaborn-v0_8-whitegrid')"
   ]
  },
  {
   "cell_type": "markdown",
   "id": "029b85da",
   "metadata": {},
   "source": [
    "## **Data Loading**"
   ]
  },
  {
   "cell_type": "code",
   "execution_count": 2,
   "id": "d7c4c739",
   "metadata": {},
   "outputs": [
    {
     "data": {
      "text/html": [
       "<div>\n",
       "<style scoped>\n",
       "    .dataframe tbody tr th:only-of-type {\n",
       "        vertical-align: middle;\n",
       "    }\n",
       "\n",
       "    .dataframe tbody tr th {\n",
       "        vertical-align: top;\n",
       "    }\n",
       "\n",
       "    .dataframe thead th {\n",
       "        text-align: right;\n",
       "    }\n",
       "</style>\n",
       "<table border=\"1\" class=\"dataframe\">\n",
       "  <thead>\n",
       "    <tr style=\"text-align: right;\">\n",
       "      <th></th>\n",
       "      <th>anime_id</th>\n",
       "      <th>name</th>\n",
       "      <th>genre</th>\n",
       "      <th>type</th>\n",
       "      <th>episodes</th>\n",
       "      <th>rating</th>\n",
       "      <th>members</th>\n",
       "    </tr>\n",
       "  </thead>\n",
       "  <tbody>\n",
       "    <tr>\n",
       "      <th>0</th>\n",
       "      <td>32281</td>\n",
       "      <td>Kimi no Na wa.</td>\n",
       "      <td>Drama, Romance, School, Supernatural</td>\n",
       "      <td>Movie</td>\n",
       "      <td>1</td>\n",
       "      <td>9.37</td>\n",
       "      <td>200630</td>\n",
       "    </tr>\n",
       "    <tr>\n",
       "      <th>1</th>\n",
       "      <td>5114</td>\n",
       "      <td>Fullmetal Alchemist: Brotherhood</td>\n",
       "      <td>Action, Adventure, Drama, Fantasy, Magic, Mili...</td>\n",
       "      <td>TV</td>\n",
       "      <td>64</td>\n",
       "      <td>9.26</td>\n",
       "      <td>793665</td>\n",
       "    </tr>\n",
       "    <tr>\n",
       "      <th>2</th>\n",
       "      <td>28977</td>\n",
       "      <td>Gintama°</td>\n",
       "      <td>Action, Comedy, Historical, Parody, Samurai, S...</td>\n",
       "      <td>TV</td>\n",
       "      <td>51</td>\n",
       "      <td>9.25</td>\n",
       "      <td>114262</td>\n",
       "    </tr>\n",
       "    <tr>\n",
       "      <th>3</th>\n",
       "      <td>9253</td>\n",
       "      <td>Steins;Gate</td>\n",
       "      <td>Sci-Fi, Thriller</td>\n",
       "      <td>TV</td>\n",
       "      <td>24</td>\n",
       "      <td>9.17</td>\n",
       "      <td>673572</td>\n",
       "    </tr>\n",
       "    <tr>\n",
       "      <th>4</th>\n",
       "      <td>9969</td>\n",
       "      <td>Gintama&amp;#039;</td>\n",
       "      <td>Action, Comedy, Historical, Parody, Samurai, S...</td>\n",
       "      <td>TV</td>\n",
       "      <td>51</td>\n",
       "      <td>9.16</td>\n",
       "      <td>151266</td>\n",
       "    </tr>\n",
       "  </tbody>\n",
       "</table>\n",
       "</div>"
      ],
      "text/plain": [
       "   anime_id                              name  \\\n",
       "0     32281                    Kimi no Na wa.   \n",
       "1      5114  Fullmetal Alchemist: Brotherhood   \n",
       "2     28977                          Gintama°   \n",
       "3      9253                       Steins;Gate   \n",
       "4      9969                     Gintama&#039;   \n",
       "\n",
       "                                               genre   type episodes  rating  \\\n",
       "0               Drama, Romance, School, Supernatural  Movie        1    9.37   \n",
       "1  Action, Adventure, Drama, Fantasy, Magic, Mili...     TV       64    9.26   \n",
       "2  Action, Comedy, Historical, Parody, Samurai, S...     TV       51    9.25   \n",
       "3                                   Sci-Fi, Thriller     TV       24    9.17   \n",
       "4  Action, Comedy, Historical, Parody, Samurai, S...     TV       51    9.16   \n",
       "\n",
       "   members  \n",
       "0   200630  \n",
       "1   793665  \n",
       "2   114262  \n",
       "3   673572  \n",
       "4   151266  "
      ]
     },
     "execution_count": 2,
     "metadata": {},
     "output_type": "execute_result"
    }
   ],
   "source": [
    "# Load Anime.csv file\n",
    "anime_df = pd.read_csv('Data/anime.csv')\n",
    "anime_df.head()"
   ]
  },
  {
   "cell_type": "code",
   "execution_count": 3,
   "id": "15fd2614",
   "metadata": {},
   "outputs": [
    {
     "data": {
      "text/html": [
       "<div>\n",
       "<style scoped>\n",
       "    .dataframe tbody tr th:only-of-type {\n",
       "        vertical-align: middle;\n",
       "    }\n",
       "\n",
       "    .dataframe tbody tr th {\n",
       "        vertical-align: top;\n",
       "    }\n",
       "\n",
       "    .dataframe thead th {\n",
       "        text-align: right;\n",
       "    }\n",
       "</style>\n",
       "<table border=\"1\" class=\"dataframe\">\n",
       "  <thead>\n",
       "    <tr style=\"text-align: right;\">\n",
       "      <th></th>\n",
       "      <th>user_id</th>\n",
       "      <th>anime_id</th>\n",
       "      <th>rating</th>\n",
       "    </tr>\n",
       "  </thead>\n",
       "  <tbody>\n",
       "    <tr>\n",
       "      <th>0</th>\n",
       "      <td>1</td>\n",
       "      <td>20</td>\n",
       "      <td>-1</td>\n",
       "    </tr>\n",
       "    <tr>\n",
       "      <th>1</th>\n",
       "      <td>1</td>\n",
       "      <td>24</td>\n",
       "      <td>-1</td>\n",
       "    </tr>\n",
       "    <tr>\n",
       "      <th>2</th>\n",
       "      <td>1</td>\n",
       "      <td>79</td>\n",
       "      <td>-1</td>\n",
       "    </tr>\n",
       "    <tr>\n",
       "      <th>3</th>\n",
       "      <td>1</td>\n",
       "      <td>226</td>\n",
       "      <td>-1</td>\n",
       "    </tr>\n",
       "    <tr>\n",
       "      <th>4</th>\n",
       "      <td>1</td>\n",
       "      <td>241</td>\n",
       "      <td>-1</td>\n",
       "    </tr>\n",
       "  </tbody>\n",
       "</table>\n",
       "</div>"
      ],
      "text/plain": [
       "   user_id  anime_id  rating\n",
       "0        1        20      -1\n",
       "1        1        24      -1\n",
       "2        1        79      -1\n",
       "3        1       226      -1\n",
       "4        1       241      -1"
      ]
     },
     "execution_count": 3,
     "metadata": {},
     "output_type": "execute_result"
    }
   ],
   "source": [
    "# Load Rating.csv file\n",
    "rating_df = pd.read_csv('Data/rating.csv')\n",
    "rating_df.head()"
   ]
  },
  {
   "cell_type": "markdown",
   "id": "ef291f5f",
   "metadata": {},
   "source": [
    "## **Exploratory Data Analysis (EDA)**"
   ]
  },
  {
   "cell_type": "markdown",
   "id": "7b6842c3",
   "metadata": {},
   "source": [
    "### **Deskripsi Variable**\n",
    "\n",
    "**Anime.csv:**\n",
    "| Kolom      | Deskripsi                                                                 |\n",
    "|------------|--------------------------------------------------------------------------|\n",
    "| anime_id   | ID unik untuk setiap anime (mengacu pada myanimelist.net)                |\n",
    "| name       | Nama lengkap anime                                                       |\n",
    "| genre      | Daftar genre anime, dipisahkan koma                                      |\n",
    "| type       | Tipe anime (TV, Movie, OVA, dll)                                         |\n",
    "| episodes   | Jumlah episode (1 jika movie)                                            |\n",
    "| rating     | Rata-rata rating dari seluruh user (skala 1-10)                          |\n",
    "| members    | Jumlah anggota komunitas yang memasukkan anime ini ke dalam grup mereka  |\n",
    "\n",
    "**Rating.csv**\n",
    "| Kolom    | Deskripsi                                                                 |\n",
    "|----------|--------------------------------------------------------------------------|\n",
    "| user_id  | ID unik pengguna (acak, tidak dapat diidentifikasi)                      |\n",
    "| anime_id | ID anime yang dirating oleh user (mengacu pada anime_id di anime.csv)    |\n",
    "| rating   | Nilai rating yang diberikan user (skala 1-10, -1 jika tidak memberi rating)|"
   ]
  },
  {
   "cell_type": "markdown",
   "id": "258ffe6f",
   "metadata": {},
   "source": [
    "### **Informasi Umum**"
   ]
  },
  {
   "cell_type": "code",
   "execution_count": null,
   "id": "fa9ee0bf",
   "metadata": {},
   "outputs": [
    {
     "name": "stdout",
     "output_type": "stream",
     "text": [
      "Jumlah Baris dan Kolom anime_df adalah: (12294, 7)\n",
      "\n",
      " Informasi Tentang Dataset Anime :\n",
      "<class 'pandas.core.frame.DataFrame'>\n",
      "RangeIndex: 12294 entries, 0 to 12293\n",
      "Data columns (total 7 columns):\n",
      " #   Column    Non-Null Count  Dtype  \n",
      "---  ------    --------------  -----  \n",
      " 0   anime_id  12294 non-null  int64  \n",
      " 1   name      12294 non-null  object \n",
      " 2   genre     12232 non-null  object \n",
      " 3   type      12269 non-null  object \n",
      " 4   episodes  12294 non-null  object \n",
      " 5   rating    12064 non-null  float64\n",
      " 6   members   12294 non-null  int64  \n",
      "dtypes: float64(1), int64(2), object(4)\n",
      "memory usage: 672.5+ KB\n"
     ]
    }
   ],
   "source": [
    "# Informasi singkat tentang dataset anime\n",
    "print(f'Jumlah Baris dan Kolom anime_df adalah: {anime_df.shape}')\n",
    "print(f'\\n Informasi Tentang Dataset Anime :')\n",
    "\n",
    "# Menampilkan informasi dasar\n",
    "anime_df.info()"
   ]
  },
  {
   "cell_type": "markdown",
   "id": "e5e18374",
   "metadata": {},
   "source": [
    "Berdasarkan hasil eksplorasi awal: \n",
    "- Dataset anime terdiri dari **12.294** baris dan **7** fitur utama. \n",
    "- Dataset ini juga terdiri dari **3** fitur bertipe data numerik seperti `anime_id`, `rating`, dan juga `members`, dan **4** bertipe data object seperti `name`, `genre`, `type`, dan juga `episodes`.\n",
    "- Sebagian besar data sudah lengkap, namun terdapat beberapa nilai kosong pada kolom `genre`, `type`, dan `rating`. Hal ini perlu diperhatikan pada tahap data preparation agar tidak mempengaruhi hasil rekomendasi. \n",
    "\n",
    "Secara umum, dataset ini sudah sangat representatif untuk membangun sistem rekomendasi berbasis konten dan kolaboratif."
   ]
  },
  {
   "cell_type": "markdown",
   "id": "264943b0",
   "metadata": {},
   "source": [
    "Pada Informasi Umum diatas ditemukan bahwa:\n",
    "- Data Anime.csv memiliki 12294 baris, dan 7 fitur"
   ]
  },
  {
   "cell_type": "code",
   "execution_count": null,
   "id": "89b14459",
   "metadata": {},
   "outputs": [
    {
     "name": "stdout",
     "output_type": "stream",
     "text": [
      "Jumlah Baris dan Kolom rating_df adalah: (7813737, 3)\n",
      "\n",
      "Informasi Tentang Dataset Rating :\n",
      "<class 'pandas.core.frame.DataFrame'>\n",
      "RangeIndex: 7813737 entries, 0 to 7813736\n",
      "Data columns (total 3 columns):\n",
      " #   Column    Dtype\n",
      "---  ------    -----\n",
      " 0   user_id   int64\n",
      " 1   anime_id  int64\n",
      " 2   rating    int64\n",
      "dtypes: int64(3)\n",
      "memory usage: 178.8 MB\n"
     ]
    }
   ],
   "source": [
    "# Informasi singkat tentang dataset rating\n",
    "print(f'Jumlah Baris dan Kolom rating_df adalah: {rating_df.shape}')\n",
    "print(f'\\nInformasi Tentang Dataset Rating :')\n",
    "\n",
    "# Menampilkan informasi dasar\n",
    "rating_df.info()"
   ]
  },
  {
   "cell_type": "markdown",
   "id": "bf39293b",
   "metadata": {},
   "source": [
    "Berdasarkan hasil eksplorasi awal ditemukan bahwa:\n",
    "- Dataset rating terdiri dari **7.813.737** baris dan **3** fitur utama, yaitu user_id, anime_id, dan rating. Seluruh data pada rating.csv bertipe numerik dan tidak ditemukan nilai kosong. \n",
    "- Tapi, jumlah data yang sangat besar ini dapat menimbulkan tantangan komputasi, terutama pada proses training model collaborative filtering. \n",
    "\n",
    "Jika nanti proses komputasi sangat lambat, maka rencananya kita bakal mengambil sebanyak **1 - 2 juta sampel saja**."
   ]
  },
  {
   "cell_type": "markdown",
   "id": "5ed0f71a",
   "metadata": {},
   "source": [
    "### **Ringkasan Statistik**"
   ]
  },
  {
   "cell_type": "code",
   "execution_count": null,
   "id": "509f6796",
   "metadata": {},
   "outputs": [
    {
     "name": "stdout",
     "output_type": "stream",
     "text": [
      "Statistik Deskriptif untuk anime_df:\n",
      "Fitur Numerik:\n"
     ]
    },
    {
     "data": {
      "text/html": [
       "<div>\n",
       "<style scoped>\n",
       "    .dataframe tbody tr th:only-of-type {\n",
       "        vertical-align: middle;\n",
       "    }\n",
       "\n",
       "    .dataframe tbody tr th {\n",
       "        vertical-align: top;\n",
       "    }\n",
       "\n",
       "    .dataframe thead th {\n",
       "        text-align: right;\n",
       "    }\n",
       "</style>\n",
       "<table border=\"1\" class=\"dataframe\">\n",
       "  <thead>\n",
       "    <tr style=\"text-align: right;\">\n",
       "      <th></th>\n",
       "      <th>anime_id</th>\n",
       "      <th>rating</th>\n",
       "      <th>members</th>\n",
       "    </tr>\n",
       "  </thead>\n",
       "  <tbody>\n",
       "    <tr>\n",
       "      <th>count</th>\n",
       "      <td>12294.000000</td>\n",
       "      <td>12064.000000</td>\n",
       "      <td>1.229400e+04</td>\n",
       "    </tr>\n",
       "    <tr>\n",
       "      <th>mean</th>\n",
       "      <td>14058.221653</td>\n",
       "      <td>6.473902</td>\n",
       "      <td>1.807134e+04</td>\n",
       "    </tr>\n",
       "    <tr>\n",
       "      <th>std</th>\n",
       "      <td>11455.294701</td>\n",
       "      <td>1.026746</td>\n",
       "      <td>5.482068e+04</td>\n",
       "    </tr>\n",
       "    <tr>\n",
       "      <th>min</th>\n",
       "      <td>1.000000</td>\n",
       "      <td>1.670000</td>\n",
       "      <td>5.000000e+00</td>\n",
       "    </tr>\n",
       "    <tr>\n",
       "      <th>25%</th>\n",
       "      <td>3484.250000</td>\n",
       "      <td>5.880000</td>\n",
       "      <td>2.250000e+02</td>\n",
       "    </tr>\n",
       "    <tr>\n",
       "      <th>50%</th>\n",
       "      <td>10260.500000</td>\n",
       "      <td>6.570000</td>\n",
       "      <td>1.550000e+03</td>\n",
       "    </tr>\n",
       "    <tr>\n",
       "      <th>75%</th>\n",
       "      <td>24794.500000</td>\n",
       "      <td>7.180000</td>\n",
       "      <td>9.437000e+03</td>\n",
       "    </tr>\n",
       "    <tr>\n",
       "      <th>max</th>\n",
       "      <td>34527.000000</td>\n",
       "      <td>10.000000</td>\n",
       "      <td>1.013917e+06</td>\n",
       "    </tr>\n",
       "  </tbody>\n",
       "</table>\n",
       "</div>"
      ],
      "text/plain": [
       "           anime_id        rating       members\n",
       "count  12294.000000  12064.000000  1.229400e+04\n",
       "mean   14058.221653      6.473902  1.807134e+04\n",
       "std    11455.294701      1.026746  5.482068e+04\n",
       "min        1.000000      1.670000  5.000000e+00\n",
       "25%     3484.250000      5.880000  2.250000e+02\n",
       "50%    10260.500000      6.570000  1.550000e+03\n",
       "75%    24794.500000      7.180000  9.437000e+03\n",
       "max    34527.000000     10.000000  1.013917e+06"
      ]
     },
     "metadata": {},
     "output_type": "display_data"
    },
    {
     "name": "stdout",
     "output_type": "stream",
     "text": [
      "Fitur Kategorikal:\n"
     ]
    },
    {
     "data": {
      "text/html": [
       "<div>\n",
       "<style scoped>\n",
       "    .dataframe tbody tr th:only-of-type {\n",
       "        vertical-align: middle;\n",
       "    }\n",
       "\n",
       "    .dataframe tbody tr th {\n",
       "        vertical-align: top;\n",
       "    }\n",
       "\n",
       "    .dataframe thead th {\n",
       "        text-align: right;\n",
       "    }\n",
       "</style>\n",
       "<table border=\"1\" class=\"dataframe\">\n",
       "  <thead>\n",
       "    <tr style=\"text-align: right;\">\n",
       "      <th></th>\n",
       "      <th>name</th>\n",
       "      <th>genre</th>\n",
       "      <th>type</th>\n",
       "      <th>episodes</th>\n",
       "    </tr>\n",
       "  </thead>\n",
       "  <tbody>\n",
       "    <tr>\n",
       "      <th>count</th>\n",
       "      <td>12294</td>\n",
       "      <td>12232</td>\n",
       "      <td>12269</td>\n",
       "      <td>12294</td>\n",
       "    </tr>\n",
       "    <tr>\n",
       "      <th>unique</th>\n",
       "      <td>12292</td>\n",
       "      <td>3264</td>\n",
       "      <td>6</td>\n",
       "      <td>187</td>\n",
       "    </tr>\n",
       "    <tr>\n",
       "      <th>top</th>\n",
       "      <td>Shi Wan Ge Leng Xiaohua</td>\n",
       "      <td>Hentai</td>\n",
       "      <td>TV</td>\n",
       "      <td>1</td>\n",
       "    </tr>\n",
       "    <tr>\n",
       "      <th>freq</th>\n",
       "      <td>2</td>\n",
       "      <td>823</td>\n",
       "      <td>3787</td>\n",
       "      <td>5677</td>\n",
       "    </tr>\n",
       "  </tbody>\n",
       "</table>\n",
       "</div>"
      ],
      "text/plain": [
       "                           name   genre   type episodes\n",
       "count                     12294   12232  12269    12294\n",
       "unique                    12292    3264      6      187\n",
       "top     Shi Wan Ge Leng Xiaohua  Hentai     TV        1\n",
       "freq                          2     823   3787     5677"
      ]
     },
     "metadata": {},
     "output_type": "display_data"
    }
   ],
   "source": [
    "# Ringkasan statistik deskriptif untuk anmie_df\n",
    "print('\\nStatistik Deskriptif untuk anime_df:')\n",
    "\n",
    "# Fitur Numerik\n",
    "print('Fitur Numerik:')\n",
    "display(anime_df.describe())\n",
    "\n",
    "# Fitur Kategorikal\n",
    "print('Fitur Kategorikal:')\n",
    "display(anime_df.describe(include='object'))"
   ]
  },
  {
   "cell_type": "markdown",
   "id": "1016a617",
   "metadata": {},
   "source": [
    "Dari ringkasan statistik dataset `anime_df`, terdapat beberapa hal menarik yang dapat dicatat:\n",
    "\n",
    "- Untuk fitur numerik:\n",
    "  - **Rating** anime memiliki rata rata **6.47** dari skala **10**, dengan nilai minimum **1.67** dan maksimum **10.0**, menunjukkan adanya sebaran kualitas dari yang sangat rendah hingga sangat tinggi.\n",
    "  - **Members**, yang merepresentasikan popularitas, sangat bervariasi, dengan median sebesar **1.550** ribu, namun ada anime yang mencapai lebih dari **1 juta anggota**, menunjukkan distribusi yang sangat tidak merata (right-skewed).\n",
    "  \n",
    "- Untuk fitur kategorikal:\n",
    "  - Terdapat **12.292 judul anime unik** dari **12.294 data**, menunjukkan nyaris tidak ada duplikasi nama.\n",
    "  - Genre paling sering muncul adalah **Hentai**, dengan **823 kemunculan**, sedangkan jenis penayangan paling dominan adalah **TV** (3787 data).\n",
    "  - Fitur `episodes` memiliki **187 nilai unik**, dengan episode `1` paling umum muncul (5677 kali), mengindikasikan bahwa pengguna sering menonton anime Movie atau mungkin OVA dan Special Episode.\n",
    "\n",
    "Secara keseluruhan, dataset ini merepresentasikan dunia anime dengan sangat beragam, baik dari segi rating, popularitas, genre, hingga format tayangan."
   ]
  },
  {
   "cell_type": "code",
   "execution_count": 27,
   "id": "15d7d909",
   "metadata": {},
   "outputs": [
    {
     "name": "stdout",
     "output_type": "stream",
     "text": [
      "\n",
      "Statistik Deskriptif untuk rating_df:\n"
     ]
    },
    {
     "data": {
      "text/html": [
       "<div>\n",
       "<style scoped>\n",
       "    .dataframe tbody tr th:only-of-type {\n",
       "        vertical-align: middle;\n",
       "    }\n",
       "\n",
       "    .dataframe tbody tr th {\n",
       "        vertical-align: top;\n",
       "    }\n",
       "\n",
       "    .dataframe thead th {\n",
       "        text-align: right;\n",
       "    }\n",
       "</style>\n",
       "<table border=\"1\" class=\"dataframe\">\n",
       "  <thead>\n",
       "    <tr style=\"text-align: right;\">\n",
       "      <th></th>\n",
       "      <th>user_id</th>\n",
       "      <th>anime_id</th>\n",
       "      <th>rating</th>\n",
       "    </tr>\n",
       "  </thead>\n",
       "  <tbody>\n",
       "    <tr>\n",
       "      <th>count</th>\n",
       "      <td>7.813737e+06</td>\n",
       "      <td>7.813737e+06</td>\n",
       "      <td>7.813737e+06</td>\n",
       "    </tr>\n",
       "    <tr>\n",
       "      <th>mean</th>\n",
       "      <td>3.672796e+04</td>\n",
       "      <td>8.909072e+03</td>\n",
       "      <td>6.144030e+00</td>\n",
       "    </tr>\n",
       "    <tr>\n",
       "      <th>std</th>\n",
       "      <td>2.099795e+04</td>\n",
       "      <td>8.883950e+03</td>\n",
       "      <td>3.727800e+00</td>\n",
       "    </tr>\n",
       "    <tr>\n",
       "      <th>min</th>\n",
       "      <td>1.000000e+00</td>\n",
       "      <td>1.000000e+00</td>\n",
       "      <td>-1.000000e+00</td>\n",
       "    </tr>\n",
       "    <tr>\n",
       "      <th>25%</th>\n",
       "      <td>1.897400e+04</td>\n",
       "      <td>1.240000e+03</td>\n",
       "      <td>6.000000e+00</td>\n",
       "    </tr>\n",
       "    <tr>\n",
       "      <th>50%</th>\n",
       "      <td>3.679100e+04</td>\n",
       "      <td>6.213000e+03</td>\n",
       "      <td>7.000000e+00</td>\n",
       "    </tr>\n",
       "    <tr>\n",
       "      <th>75%</th>\n",
       "      <td>5.475700e+04</td>\n",
       "      <td>1.409300e+04</td>\n",
       "      <td>9.000000e+00</td>\n",
       "    </tr>\n",
       "    <tr>\n",
       "      <th>max</th>\n",
       "      <td>7.351600e+04</td>\n",
       "      <td>3.451900e+04</td>\n",
       "      <td>1.000000e+01</td>\n",
       "    </tr>\n",
       "  </tbody>\n",
       "</table>\n",
       "</div>"
      ],
      "text/plain": [
       "            user_id      anime_id        rating\n",
       "count  7.813737e+06  7.813737e+06  7.813737e+06\n",
       "mean   3.672796e+04  8.909072e+03  6.144030e+00\n",
       "std    2.099795e+04  8.883950e+03  3.727800e+00\n",
       "min    1.000000e+00  1.000000e+00 -1.000000e+00\n",
       "25%    1.897400e+04  1.240000e+03  6.000000e+00\n",
       "50%    3.679100e+04  6.213000e+03  7.000000e+00\n",
       "75%    5.475700e+04  1.409300e+04  9.000000e+00\n",
       "max    7.351600e+04  3.451900e+04  1.000000e+01"
      ]
     },
     "execution_count": 27,
     "metadata": {},
     "output_type": "execute_result"
    }
   ],
   "source": [
    "# Ringkasan statistik dari dataset rating_df\n",
    "print('\\nStatistik Deskriptif untuk rating_df:')\n",
    "rating_df.describe()"
   ]
  },
  {
   "cell_type": "markdown",
   "id": "6ca87909",
   "metadata": {},
   "source": [
    "Dari ringkasan statistik deskriptif rating_df kita menemukan:\n",
    "\n",
    "- Dataset ini mencatat lebih dari **7,8 juta interaksi** antara pengguna dan anime. Rata rata rating berada di angka **6.14**, dengan median **7.0**, menandakan kecenderungan pengguna atau penonton memberi nilai cukup positif. \n",
    "\n",
    "- Nilai rating berkisar dari **-1 hingga 10**, di mana **-1** kemungkinan besar berarti belum memberikan penilaian. Penyebaran rating cukup lebar, dengan standar deviasi **3.72**, menunjukkan adanya variasi opini yang tinggi. \n",
    "\n",
    "Secara keseluruhan, data ini menggambarkan sistem rating yang aktif dan sangat bervariasi, pondasi yang sangat kaya untuk membangun sistem rekomendasi."
   ]
  },
  {
   "cell_type": "markdown",
   "id": "21d3f165",
   "metadata": {},
   "source": [
    "### **Identifikasi Missing Values dan Duplikasi**"
   ]
  },
  {
   "cell_type": "code",
   "execution_count": 48,
   "id": "8963fb69",
   "metadata": {},
   "outputs": [
    {
     "data": {
      "text/html": [
       "<div>\n",
       "<style scoped>\n",
       "    .dataframe tbody tr th:only-of-type {\n",
       "        vertical-align: middle;\n",
       "    }\n",
       "\n",
       "    .dataframe tbody tr th {\n",
       "        vertical-align: top;\n",
       "    }\n",
       "\n",
       "    .dataframe thead th {\n",
       "        text-align: right;\n",
       "    }\n",
       "</style>\n",
       "<table border=\"1\" class=\"dataframe\">\n",
       "  <thead>\n",
       "    <tr style=\"text-align: right;\">\n",
       "      <th></th>\n",
       "      <th>Jumlah Missing Values</th>\n",
       "      <th>Persentasi Missing Values</th>\n",
       "      <th>Jumlah Duplikasi</th>\n",
       "    </tr>\n",
       "  </thead>\n",
       "  <tbody>\n",
       "    <tr>\n",
       "      <th>rating</th>\n",
       "      <td>230</td>\n",
       "      <td>1.870831</td>\n",
       "      <td>0</td>\n",
       "    </tr>\n",
       "    <tr>\n",
       "      <th>genre</th>\n",
       "      <td>62</td>\n",
       "      <td>0.504311</td>\n",
       "      <td>0</td>\n",
       "    </tr>\n",
       "    <tr>\n",
       "      <th>type</th>\n",
       "      <td>25</td>\n",
       "      <td>0.203351</td>\n",
       "      <td>0</td>\n",
       "    </tr>\n",
       "    <tr>\n",
       "      <th>anime_id</th>\n",
       "      <td>0</td>\n",
       "      <td>0.000000</td>\n",
       "      <td>0</td>\n",
       "    </tr>\n",
       "    <tr>\n",
       "      <th>name</th>\n",
       "      <td>0</td>\n",
       "      <td>0.000000</td>\n",
       "      <td>0</td>\n",
       "    </tr>\n",
       "    <tr>\n",
       "      <th>episodes</th>\n",
       "      <td>0</td>\n",
       "      <td>0.000000</td>\n",
       "      <td>0</td>\n",
       "    </tr>\n",
       "    <tr>\n",
       "      <th>members</th>\n",
       "      <td>0</td>\n",
       "      <td>0.000000</td>\n",
       "      <td>0</td>\n",
       "    </tr>\n",
       "  </tbody>\n",
       "</table>\n",
       "</div>"
      ],
      "text/plain": [
       "          Jumlah Missing Values  Persentasi Missing Values  Jumlah Duplikasi\n",
       "rating                      230                   1.870831                 0\n",
       "genre                        62                   0.504311                 0\n",
       "type                         25                   0.203351                 0\n",
       "anime_id                      0                   0.000000                 0\n",
       "name                          0                   0.000000                 0\n",
       "episodes                      0                   0.000000                 0\n",
       "members                       0                   0.000000                 0"
      ]
     },
     "metadata": {},
     "output_type": "display_data"
    }
   ],
   "source": [
    "# Identifikasi Missing Values dan Duplikasi anime_df\n",
    "missing_values_anime = anime_df.isnull().sum()\n",
    "missing_values_anime_percentage = (missing_values_anime / len(anime_df)) * 100\n",
    "duplicates_anime = anime_df.duplicated().sum()\n",
    "\n",
    "# Membuat DataFrame untuk missing_anime_df\n",
    "missing_anime_df = pd.DataFrame({\n",
    "    'Jumlah Missing Values': missing_values_anime,\n",
    "    'Persentasi Missing Values': missing_values_anime_percentage,\n",
    "    'Jumlah Duplikasi': duplicates_anime\n",
    "}).sort_values(by='Jumlah Missing Values', ascending=False)\n",
    "\n",
    "# Menampilkan DataFrame missing_anime_df\n",
    "display(missing_anime_df)"
   ]
  },
  {
   "cell_type": "markdown",
   "id": "35ad9dd4",
   "metadata": {},
   "source": [
    "- Secara keseluruhan, dataset `anime_df` tergolong bersih. Hanya terdapat sedikit missing values pada kolom `rating` (1.87%), `genre` (0.50%), dan `type` (0.20%). Sisanya lengkap 100%.\n",
    "- Tidak ditemukan **data duplikat** di seluruh kolom, termasuk `anime_id` dan `name`, yang berarti tiap entri mewakili satu anime yang unik.\n",
    "\n"
   ]
  },
  {
   "cell_type": "code",
   "execution_count": 49,
   "id": "3b327ade",
   "metadata": {},
   "outputs": [
    {
     "data": {
      "text/html": [
       "<div>\n",
       "<style scoped>\n",
       "    .dataframe tbody tr th:only-of-type {\n",
       "        vertical-align: middle;\n",
       "    }\n",
       "\n",
       "    .dataframe tbody tr th {\n",
       "        vertical-align: top;\n",
       "    }\n",
       "\n",
       "    .dataframe thead th {\n",
       "        text-align: right;\n",
       "    }\n",
       "</style>\n",
       "<table border=\"1\" class=\"dataframe\">\n",
       "  <thead>\n",
       "    <tr style=\"text-align: right;\">\n",
       "      <th></th>\n",
       "      <th>Jumlah Missing Values</th>\n",
       "      <th>Persentasi Missing Values</th>\n",
       "      <th>Jumlah Duplikasi</th>\n",
       "    </tr>\n",
       "  </thead>\n",
       "  <tbody>\n",
       "    <tr>\n",
       "      <th>user_id</th>\n",
       "      <td>0</td>\n",
       "      <td>0.0</td>\n",
       "      <td>1</td>\n",
       "    </tr>\n",
       "    <tr>\n",
       "      <th>anime_id</th>\n",
       "      <td>0</td>\n",
       "      <td>0.0</td>\n",
       "      <td>1</td>\n",
       "    </tr>\n",
       "    <tr>\n",
       "      <th>rating</th>\n",
       "      <td>0</td>\n",
       "      <td>0.0</td>\n",
       "      <td>1</td>\n",
       "    </tr>\n",
       "  </tbody>\n",
       "</table>\n",
       "</div>"
      ],
      "text/plain": [
       "          Jumlah Missing Values  Persentasi Missing Values  Jumlah Duplikasi\n",
       "user_id                       0                        0.0                 1\n",
       "anime_id                      0                        0.0                 1\n",
       "rating                        0                        0.0                 1"
      ]
     },
     "metadata": {},
     "output_type": "display_data"
    }
   ],
   "source": [
    "# Identifikasi Missing Values dan Duplikasi rating_df\n",
    "missing_values_anime = rating_df.isnull().sum()\n",
    "missing_values_anime_percentage = (missing_values_anime / len(rating_df)) * 100\n",
    "duplicates_anime = rating_df.duplicated().sum()\n",
    "\n",
    "# Membuat DataFrame untuk missing_rating_df\n",
    "missing_rating_df = pd.DataFrame({\n",
    "    'Jumlah Missing Values': missing_values_anime,\n",
    "    'Persentasi Missing Values': missing_values_anime_percentage,\n",
    "    'Jumlah Duplikasi': duplicates_anime\n",
    "}).sort_values(by='Jumlah Missing Values', ascending=False)\n",
    "\n",
    "# Menampilkan DataFrame missing_rating_df\n",
    "display(missing_rating_df)"
   ]
  },
  {
   "cell_type": "markdown",
   "id": "fcad4c73",
   "metadata": {},
   "source": [
    "- Dataset rating_df sangat bersih, tidak ada missing values yang teridentifikasi, tapi hanya aja duplikasi data saja dengan jumlah hanya 1."
   ]
  }
 ],
 "metadata": {
  "kernelspec": {
   "display_name": ".venv",
   "language": "python",
   "name": "python3"
  },
  "language_info": {
   "codemirror_mode": {
    "name": "ipython",
    "version": 3
   },
   "file_extension": ".py",
   "mimetype": "text/x-python",
   "name": "python",
   "nbconvert_exporter": "python",
   "pygments_lexer": "ipython3",
   "version": "3.11.1"
  }
 },
 "nbformat": 4,
 "nbformat_minor": 5
}
